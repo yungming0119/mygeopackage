{
 "metadata": {
  "language_info": {
   "codemirror_mode": {
    "name": "ipython",
    "version": 3
   },
   "file_extension": ".py",
   "mimetype": "text/x-python",
   "name": "python",
   "nbconvert_exporter": "python",
   "pygments_lexer": "ipython3",
   "version": "3.8.5"
  },
  "orig_nbformat": 2,
  "kernelspec": {
   "name": "python385jvsc74a57bd08d7320e171596b1493be8177a7a7ca134e8e4daa4a0911345b33f8c9aad46417",
   "display_name": "Python 3.8.5 64-bit ('demo': conda)"
  }
 },
 "nbformat": 4,
 "nbformat_minor": 2,
 "cells": [
  {
   "source": [
    "# Data Preprocessing Module"
   ],
   "cell_type": "markdown",
   "metadata": {}
  },
  {
   "source": [
    "In this tutorial, functions in data preprocessing module will be demonstrated. Data preprocessing offers data normalization functions that are sometimes needed before doing data mining."
   ],
   "cell_type": "markdown",
   "metadata": {}
  },
  {
   "source": [
    "## Import Data preprocessing module"
   ],
   "cell_type": "markdown",
   "metadata": {}
  },
  {
   "cell_type": "code",
   "execution_count": 1,
   "metadata": {},
   "outputs": [],
   "source": [
    "from mygeopackage import Geo\n",
    "import mygeopackage.pproc"
   ]
  },
  {
   "source": [
    "In order to use the function in data preprocessing module we will first need to import mygeopackage.data_preprocessing."
   ],
   "cell_type": "markdown",
   "metadata": {}
  },
  {
   "source": [
    "## Standard Normalization"
   ],
   "cell_type": "markdown",
   "metadata": {}
  },
  {
   "cell_type": "code",
   "execution_count": 2,
   "metadata": {},
   "outputs": [],
   "source": [
    "geojson = Geo(r'https://github.com/yungming0119/mygeopackage/blob/main/docs/notebooks/data/sample_points.geojson?raw=true')"
   ]
  },
  {
   "cell_type": "code",
   "execution_count": 3,
   "metadata": {},
   "outputs": [
    {
     "output_type": "execute_result",
     "data": {
      "text/plain": [
       "array(['34.260194', '34.262226', '34.273318', ..., '18.354782',\n",
       "       '18.336658', '18.31823'], dtype='<U60')"
      ]
     },
     "metadata": {},
     "execution_count": 3
    }
   ],
   "source": [
    "geojson.data[:,15]"
   ]
  },
  {
   "source": [
    "First, we will need to create a Geo class object."
   ],
   "cell_type": "markdown",
   "metadata": {}
  },
  {
   "cell_type": "code",
   "execution_count": 4,
   "metadata": {},
   "outputs": [],
   "source": [
    "mygeopackage.pproc.standardNormalization(geojson,15)"
   ]
  },
  {
   "source": [
    "The standardNormalization function acceptes 2 argument. The first is the Geo class object that stores the data. The second argument is the index that you need to standardized."
   ],
   "cell_type": "markdown",
   "metadata": {}
  },
  {
   "cell_type": "code",
   "execution_count": 5,
   "metadata": {},
   "outputs": [
    {
     "output_type": "execute_result",
     "data": {
      "text/plain": [
       "array(['-0.6106098792046125', '-0.6102592429638816',\n",
       "       '-0.6083452384450874', ..., '-3.3552033196364177',\n",
       "       '-3.3583307464213625', '-3.361510630596653'], dtype='<U60')"
      ]
     },
     "metadata": {},
     "execution_count": 5
    }
   ],
   "source": [
    "geojson.data[:,15]"
   ]
  },
  {
   "source": [
    "We can see here, the original column has been replaced by the standardized column."
   ],
   "cell_type": "markdown",
   "metadata": {}
  }
 ]
}