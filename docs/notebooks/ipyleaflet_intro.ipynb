{
 "metadata": {
  "language_info": {
   "codemirror_mode": {
    "name": "ipython",
    "version": 3
   },
   "file_extension": ".py",
   "mimetype": "text/x-python",
   "name": "python",
   "nbconvert_exporter": "python",
   "pygments_lexer": "ipython3",
   "version": "3.8.5-final"
  },
  "orig_nbformat": 2,
  "kernelspec": {
   "name": "python3",
   "display_name": "Python 3.8.5 64-bit ('demo': conda)",
   "metadata": {
    "interpreter": {
     "hash": "8d7320e171596b1493be8177a7a7ca134e8e4daa4a0911345b33f8c9aad46417"
    }
   }
  }
 },
 "nbformat": 4,
 "nbformat_minor": 2,
 "cells": [
  {
   "source": [
    "# Ipyleaflet Intro"
   ],
   "cell_type": "markdown",
   "metadata": {}
  },
  {
   "source": [
    "### Create an interactive map"
   ],
   "cell_type": "markdown",
   "metadata": {}
  },
  {
   "cell_type": "code",
   "execution_count": 5,
   "metadata": {},
   "outputs": [],
   "source": [
    "import ipyleaflet\n",
    "m = ipyleaflet.Map(center=[40, -100], zoom=4, scroll_wheel_zoom=True)"
   ]
  },
  {
   "source": [
    "### Add widget controls"
   ],
   "cell_type": "markdown",
   "metadata": {}
  },
  {
   "cell_type": "code",
   "execution_count": 6,
   "metadata": {},
   "outputs": [],
   "source": [
    "from ipyleaflet import FullScreenControl, LayersControl, DrawControl, MeasureControl, ScaleControl\n",
    "m.add_control(FullScreenControl())\n",
    "m.add_control(LayersControl(position=\"topright\"))\n",
    "m.add_control(DrawControl(position=\"topleft\"))\n",
    "m.add_control(MeasureControl())\n",
    "m.add_control(ScaleControl(position=\"bottomleft\"))"
   ]
  },
  {
   "source": [
    "### Add basemaps"
   ],
   "cell_type": "markdown",
   "metadata": {}
  },
  {
   "cell_type": "code",
   "execution_count": 7,
   "metadata": {},
   "outputs": [
    {
     "output_type": "display_data",
     "data": {
      "text/plain": "Map(center=[40, -100], controls=(ZoomControl(options=['position', 'zoom_in_text', 'zoom_in_title', 'zoom_out_t…",
      "application/vnd.jupyter.widget-view+json": {
       "version_major": 2,
       "version_minor": 0,
       "model_id": "dabbe20781d246edb0ed984624578638"
      }
     },
     "metadata": {}
    }
   ],
   "source": [
    "from ipyleaflet import basemaps, TileLayer\n",
    "m.add_layer(basemaps.OpenTopoMap)\n",
    "m.add_layer(basemaps.Esri.WorldImagery)\n",
    "m"
   ]
  },
  {
   "cell_type": "code",
   "execution_count": null,
   "metadata": {},
   "outputs": [],
   "source": []
  }
 ]
}