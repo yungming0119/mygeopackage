{
 "metadata": {
  "language_info": {
   "codemirror_mode": {
    "name": "ipython",
    "version": 3
   },
   "file_extension": ".py",
   "mimetype": "text/x-python",
   "name": "python",
   "nbconvert_exporter": "python",
   "pygments_lexer": "ipython3",
   "version": "3.8.5-final"
  },
  "orig_nbformat": 2,
  "kernelspec": {
   "name": "python3",
   "display_name": "Python 3.8.5 64-bit ('demo': conda)",
   "metadata": {
    "interpreter": {
     "hash": "8d7320e171596b1493be8177a7a7ca134e8e4daa4a0911345b33f8c9aad46417"
    }
   }
  }
 },
 "nbformat": 4,
 "nbformat_minor": 2,
 "cells": [
  {
   "source": [
    "# Main Module"
   ],
   "cell_type": "markdown",
   "metadata": {}
  },
  {
   "source": [
    "In this tutorial, the core functions of mygeopackage will be demonstrated."
   ],
   "cell_type": "markdown",
   "metadata": {}
  },
  {
   "source": [
    "## Read data from geojson"
   ],
   "cell_type": "markdown",
   "metadata": {}
  },
  {
   "cell_type": "code",
   "execution_count": 1,
   "metadata": {},
   "outputs": [],
   "source": [
    "from mygeopackage import Geo\n",
    "geojson = Geo(r'https://github.com/yungming0119/mygeopackage/blob/main/docs/notebooks/data/sample_points.geojson?raw=true',file_type='geojson',request=True)"
   ]
  },
  {
   "source": [
    "Notice in this demo, two additional arguments are added to the instantiate function of Geo class. *file_type* determines what format of GIS data will be loaded. Default is set to 'geojson' for *file_type*. When *request* is set to False, geojson will be loaded from local file system."
   ],
   "cell_type": "markdown",
   "metadata": {}
  },
  {
   "source": [
    "## Access data attributes"
   ],
   "cell_type": "markdown",
   "metadata": {}
  },
  {
   "cell_type": "code",
   "execution_count": 2,
   "metadata": {},
   "outputs": [
    {
     "output_type": "execute_result",
     "data": {
      "text/plain": [
       "'urn:ogc:def:crs:OGC:1.3:CRS84'"
      ]
     },
     "metadata": {},
     "execution_count": 2
    }
   ],
   "source": [
    "geojson.crs"
   ]
  },
  {
   "cell_type": "code",
   "execution_count": 3,
   "metadata": {},
   "outputs": [
    {
     "output_type": "execute_result",
     "data": {
      "text/plain": [
       "['FID',\n",
       " 'NCESSCH',\n",
       " 'LEAID',\n",
       " 'NAME',\n",
       " 'OPSTFIPS',\n",
       " 'STREET',\n",
       " 'CITY',\n",
       " 'STATE',\n",
       " 'ZIP',\n",
       " 'STFIP',\n",
       " 'CNTY',\n",
       " 'NMCNTY',\n",
       " 'LOCALE',\n",
       " 'LAT',\n",
       " 'LON',\n",
       " 'CBSA',\n",
       " 'NMCBSA',\n",
       " 'CBSATYPE',\n",
       " 'CSA',\n",
       " 'NMCSA',\n",
       " 'NECTA',\n",
       " 'NMNECTA',\n",
       " 'CD',\n",
       " 'SLDL',\n",
       " 'SLDU',\n",
       " 'SCHOOLYEAR']"
      ]
     },
     "metadata": {},
     "execution_count": 3
    }
   ],
   "source": [
    "geojson.attributes"
   ]
  },
  {
   "cell_type": "code",
   "execution_count": 4,
   "metadata": {},
   "outputs": [
    {
     "output_type": "execute_result",
     "data": {
      "text/plain": [
       "array([['-86.20617875299996', '34.260200473000054', '1', ..., '01026',\n",
       "        '01009', '2018-2019'],\n",
       "       ['-86.20488875199999', '34.26223247300004', '2', ..., '01026',\n",
       "        '01009', '2018-2019'],\n",
       "       ['-86.22014875799994', '34.27332447500004', '3', ..., '01026',\n",
       "        '01009', '2018-2019'],\n",
       "       ...,\n",
       "       ['-64.89902190199996', '18.354784900000027', '102174', ..., 'N',\n",
       "        'N', '2018-2019'],\n",
       "       ['-64.94593791699998', '18.336660895000023', '102175', ..., 'N',\n",
       "        'N', '2018-2019'],\n",
       "       ['-64.89030889899993', '18.318232890000047', '102176', ..., 'N',\n",
       "        'N', '2018-2019']], dtype='<U60')"
      ]
     },
     "metadata": {},
     "execution_count": 4
    }
   ],
   "source": [
    "geojson.data"
   ]
  },
  {
   "source": [
    "The Geo object has three attributes: *crs*, *attributes*, *data*. *crs* is the coordinate reference system. *attributes* is a list of the field names for attribute data. *data* is a numpy array for geometry and attribute value. For point data, X and Y coordinate will be at column 0 and 1."
   ],
   "cell_type": "markdown",
   "metadata": {}
  },
  {
   "source": [
    "## Read data from shapefile"
   ],
   "cell_type": "markdown",
   "metadata": {}
  },
  {
   "cell_type": "code",
   "execution_count": 5,
   "metadata": {},
   "outputs": [],
   "source": [
    "shp = Geo(r'./data/sample_points.shp',file_type='shp')"
   ]
  },
  {
   "source": [
    "By specifying *file_type* to 'shp', we can read local shapefile and convert it to a numpy array."
   ],
   "cell_type": "markdown",
   "metadata": {}
  }
 ]
}