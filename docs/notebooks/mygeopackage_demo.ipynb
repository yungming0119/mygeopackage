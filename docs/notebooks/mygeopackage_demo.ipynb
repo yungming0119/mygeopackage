{
 "metadata": {
  "language_info": {
   "codemirror_mode": {
    "name": "ipython",
    "version": 3
   },
   "file_extension": ".py",
   "mimetype": "text/x-python",
   "name": "python",
   "nbconvert_exporter": "python",
   "pygments_lexer": "ipython3",
   "version": "3.8.5-final"
  },
  "orig_nbformat": 2,
  "kernelspec": {
   "name": "python3",
   "display_name": "Python 3.8.5 64-bit ('demo': conda)",
   "metadata": {
    "interpreter": {
     "hash": "8d7320e171596b1493be8177a7a7ca134e8e4daa4a0911345b33f8c9aad46417"
    }
   }
  }
 },
 "nbformat": 4,
 "nbformat_minor": 2,
 "cells": [
  {
   "source": [
    "# Mygeopackage"
   ],
   "cell_type": "markdown",
   "metadata": {}
  },
  {
   "source": [
    "## Create an interactive map"
   ],
   "cell_type": "markdown",
   "metadata": {}
  },
  {
   "source": [
    "from mygeopackage import Map"
   ],
   "cell_type": "code",
   "metadata": {},
   "execution_count": 1,
   "outputs": []
  },
  {
   "cell_type": "code",
   "execution_count": 2,
   "metadata": {},
   "outputs": [
    {
     "output_type": "display_data",
     "data": {
      "text/plain": "Map(center=[40, -100], controls=(ZoomControl(options=['position', 'zoom_in_text', 'zoom_in_title', 'zoom_out_t…",
      "application/vnd.jupyter.widget-view+json": {
       "version_major": 2,
       "version_minor": 0,
       "model_id": "c713e345549349c2a84c279649d4b728"
      }
     },
     "metadata": {}
    }
   ],
   "source": [
    "m = Map()\n",
    "m"
   ]
  },
  {
   "source": [
    "Use satellite google map as base map"
   ],
   "cell_type": "markdown",
   "metadata": {}
  },
  {
   "cell_type": "code",
   "execution_count": 3,
   "metadata": {},
   "outputs": [
    {
     "output_type": "display_data",
     "data": {
      "text/plain": "Map(center=[40, -100], controls=(ZoomControl(options=['position', 'zoom_in_text', 'zoom_in_title', 'zoom_out_t…",
      "application/vnd.jupyter.widget-view+json": {
       "version_major": 2,
       "version_minor": 0,
       "model_id": "4a5821a8617348be9e75d1a299f063bb"
      }
     },
     "metadata": {}
    }
   ],
   "source": [
    "m = Map(google_map='HYBRID')\n",
    "m"
   ]
  },
  {
   "source": [
    "Change Layout"
   ],
   "cell_type": "markdown",
   "metadata": {}
  },
  {
   "cell_type": "code",
   "execution_count": 4,
   "metadata": {},
   "outputs": [
    {
     "output_type": "display_data",
     "data": {
      "text/plain": "Map(center=[40, -100], controls=(ZoomControl(options=['position', 'zoom_in_text', 'zoom_in_title', 'zoom_out_t…",
      "application/vnd.jupyter.widget-view+json": {
       "version_major": 2,
       "version_minor": 0,
       "model_id": "476dcdd8534f4325a55c143c7ef4ba40"
      }
     },
     "metadata": {}
    }
   ],
   "source": [
    "m = Map(height = '500px')\n",
    "m"
   ]
  },
  {
   "source": [
    "Change default center and zoom level"
   ],
   "cell_type": "markdown",
   "metadata": {}
  },
  {
   "cell_type": "code",
   "execution_count": 10,
   "metadata": {},
   "outputs": [
    {
     "output_type": "display_data",
     "data": {
      "text/plain": "Map(center=[23, 121], controls=(ZoomControl(options=['position', 'zoom_in_text', 'zoom_in_title', 'zoom_out_te…",
      "application/vnd.jupyter.widget-view+json": {
       "version_major": 2,
       "version_minor": 0,
       "model_id": "0cede2f2d0ce439e8d9bc270b5966b2f"
      }
     },
     "metadata": {}
    }
   ],
   "source": [
    "m = Map(center = [23,121], zoom = 7)\n",
    "m"
   ]
  },
  {
   "source": [
    "## Read geojson and convert it to numpy array"
   ],
   "cell_type": "markdown",
   "metadata": {}
  },
  {
   "cell_type": "code",
   "execution_count": 11,
   "metadata": {},
   "outputs": [],
   "source": [
    "from mygeopackage import Geo"
   ]
  },
  {
   "cell_type": "code",
   "execution_count": 13,
   "metadata": {},
   "outputs": [],
   "source": [
    "geojson = Geo(r\"data\\sample_points.geojson\")"
   ]
  },
  {
   "source": [
    "Access CRS of the data"
   ],
   "cell_type": "markdown",
   "metadata": {}
  },
  {
   "cell_type": "code",
   "execution_count": 15,
   "metadata": {},
   "outputs": [
    {
     "output_type": "execute_result",
     "data": {
      "text/plain": [
       "'urn:ogc:def:crs:OGC:1.3:CRS84'"
      ]
     },
     "metadata": {},
     "execution_count": 15
    }
   ],
   "source": [
    "geojson.crs"
   ]
  },
  {
   "source": [
    "Access array of the data"
   ],
   "cell_type": "markdown",
   "metadata": {}
  },
  {
   "cell_type": "code",
   "execution_count": 16,
   "metadata": {},
   "outputs": [
    {
     "output_type": "execute_result",
     "data": {
      "text/plain": [
       "array([['-86.20617875299996', '34.260200473000054', '1', ..., '01026',\n",
       "        '01009', '2018-2019'],\n",
       "       ['-86.20488875199999', '34.26223247300004', '2', ..., '01026',\n",
       "        '01009', '2018-2019'],\n",
       "       ['-86.22014875799994', '34.27332447500004', '3', ..., '01026',\n",
       "        '01009', '2018-2019'],\n",
       "       ...,\n",
       "       ['-64.89902190199996', '18.354784900000027', '102174', ..., 'N',\n",
       "        'N', '2018-2019'],\n",
       "       ['-64.94593791699998', '18.336660895000023', '102175', ..., 'N',\n",
       "        'N', '2018-2019'],\n",
       "       ['-64.89030889899993', '18.318232890000047', '102176', ..., 'N',\n",
       "        'N', '2018-2019']], dtype='<U60')"
      ]
     },
     "metadata": {},
     "execution_count": 16
    }
   ],
   "source": [
    "geojson.data"
   ]
  },
  {
   "cell_type": "code",
   "execution_count": null,
   "metadata": {},
   "outputs": [],
   "source": []
  }
 ]
}